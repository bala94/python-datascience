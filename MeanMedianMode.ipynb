{
 "cells": [
  {
   "cell_type": "markdown",
   "metadata": {},
   "source": [
    "## Practicing Mean, Median, Mode with numpy"
   ]
  },
  {
   "cell_type": "markdown",
   "metadata": {},
   "source": [
    "#### Let's create some fake income data, centered around 27000 with a normal distribution and standard deviation of 15000, with 10000 data points. "
   ]
  },
  {
   "cell_type": "code",
   "execution_count": 16,
   "metadata": {
    "collapsed": false
   },
   "outputs": [
    {
     "data": {
      "text/plain": [
       "array([  4607.7658223 ,  23349.97289885,  42889.24590695, ...,\n",
       "        20114.95903631,  22634.28286337,  13877.03651023])"
      ]
     },
     "execution_count": 16,
     "metadata": {},
     "output_type": "execute_result"
    }
   ],
   "source": [
    "import numpy as np\n",
    "\n",
    "incomes = np.random.normal(27000,15000,10000)\n",
    "incomes"
   ]
  },
  {
   "cell_type": "code",
   "execution_count": 17,
   "metadata": {
    "collapsed": false
   },
   "outputs": [
    {
     "data": {
      "text/plain": [
       "26990.335142879994"
      ]
     },
     "execution_count": 17,
     "metadata": {},
     "output_type": "execute_result"
    }
   ],
   "source": [
    "np.mean(incomes)"
   ]
  },
  {
   "cell_type": "code",
   "execution_count": 18,
   "metadata": {
    "collapsed": false
   },
   "outputs": [
    {
     "data": {
      "image/png": "[encoded data removed]",
      "text/plain": [
       "<matplotlib.figure.Figure at 0x7ff02c4b34e0>"
      ]
     },
     "metadata": {},
     "output_type": "display_data"
    }
   ],
   "source": [
    "import matplotlib.pyplot as plt\n",
    "plt.hist(incomes,50)\n",
    "plt.show()"
   ]
  },
  {
   "cell_type": "markdown",
   "metadata": {},
   "source": [
    "## What is normal distribution?\n",
    "\n",
    "https://www.mathsisfun.com/data/standard-normal-distribution.html"
   ]
  },
  {
   "cell_type": "markdown",
   "metadata": {},
   "source": [
    "## Histogram\n",
    "\n",
    "A histogram is a plot that lets you discover, and show, the underlying frequency distribution of a set of continuos data. \n",
    "\n",
    "\n"
   ]
  },
  {
   "cell_type": "markdown",
   "metadata": {},
   "source": [
    "#### How to construct a histogram from a continous variable?\n",
    "\n",
    "To construct histogram from a continuos variable you first need to split the data into intervals, called bins.\n",
    "\n",
    "In the above example, each bin represents range of 50. \n",
    "ex: 0-50, 50-100, 100-150 and corresponding frequencies are plotted in histogram\n"
   ]
  },
  {
   "cell_type": "code",
   "execution_count": 19,
   "metadata": {
    "collapsed": false
   },
   "outputs": [
    {
     "data": {
      "text/plain": [
       "27103.40357480797"
      ]
     },
     "execution_count": 19,
     "metadata": {},
     "output_type": "execute_result"
    }
   ],
   "source": [
    "np.median(incomes)"
   ]
  },
  {
   "cell_type": "code",
   "execution_count": 22,
   "metadata": {
    "collapsed": false
   },
   "outputs": [
    {
     "name": "stdout",
     "output_type": "stream",
     "text": [
      "27103.4035748\n",
      "1026785.97795\n"
     ]
    }
   ],
   "source": [
    "#Let's add a billionaries into the mix\n",
    "incomes = np.append(incomes,[10000000000])\n",
    "print(np.median(incomes))\n",
    "print(np.mean(incomes))"
   ]
  },
  {
   "cell_type": "code",
   "execution_count": 23,
   "metadata": {
    "collapsed": false
   },
   "outputs": [
    {
     "data": {
      "image/png": "[encoded data removed]",
      "text/plain": [
       "<matplotlib.figure.Figure at 0x7ff02b2ddd30>"
      ]
     },
     "metadata": {},
     "output_type": "display_data"
    }
   ],
   "source": [
    "plt.hist(incomes,1000)\n",
    "plt.show()"
   ]
  },
  {
   "cell_type": "markdown",
   "metadata": {},
   "source": [
    "### Mode"
   ]
  },
  {
   "cell_type": "code",
   "execution_count": 24,
   "metadata": {
    "collapsed": false
   },
   "outputs": [
    {
     "data": {
      "text/plain": [
       "array([56, 63, 75, 39, 72, 21, 39, 36, 34, 54, 76, 68, 38, 64, 58, 53, 23,\n",
       "       64, 58, 48, 35, 61, 37, 28, 21, 83, 37, 21, 37, 53, 66, 52, 38, 25,\n",
       "       87, 57, 42, 32, 43, 64, 39, 42, 85, 78, 86, 45, 58, 18, 31, 63, 56,\n",
       "       83, 76, 47, 53, 56, 61, 71, 73, 49, 46, 78, 53, 33, 81, 46, 63, 39,\n",
       "       31, 51, 42, 72, 74, 62, 31, 32, 47, 87, 67, 47, 21, 21, 88, 30, 87,\n",
       "       25, 51, 70, 74, 76, 47, 29, 36, 18, 87, 41, 66, 78, 63, 29, 88, 65,\n",
       "       18, 57, 69, 79, 89, 31, 43, 20, 44, 63, 86, 38, 78, 77, 56, 73, 33,\n",
       "       38, 58, 23, 37, 71, 82, 75, 81, 82, 62, 58, 36, 30, 65, 62, 51, 38,\n",
       "       29, 63, 89, 82, 29, 24, 18, 83, 31, 80, 83, 54, 39, 55, 24, 79, 87,\n",
       "       51, 67, 50, 78, 89, 72, 41, 47, 68, 41, 55, 37, 88, 44, 34, 81, 59,\n",
       "       52, 54, 67, 21, 20, 35, 82, 73, 35, 40, 75, 37, 27, 43, 23, 27, 63,\n",
       "       59, 72, 84, 89, 86, 61, 68, 46, 89, 63, 68, 85, 31, 49, 21, 26, 55,\n",
       "       27, 37, 40, 69, 26, 20, 32, 76, 38, 24, 33, 60, 56, 77, 36, 28, 80,\n",
       "       31, 73, 87, 75, 84, 54, 22, 50, 73, 56, 77, 27, 79, 59, 63, 81, 60,\n",
       "       22, 30, 66, 29, 47, 59, 29, 32, 42, 87, 29, 22, 33, 71, 25, 18, 20,\n",
       "       80, 83, 49, 76, 29, 20, 36, 66, 51, 75, 40, 18, 82, 51, 56, 23, 53,\n",
       "       77, 44, 80, 54, 41, 66, 88, 25, 57, 26, 18, 86, 88, 45, 85, 52, 19,\n",
       "       81, 29, 30, 80, 42, 30, 46, 62, 76, 54, 79, 46, 18, 51, 44, 35, 46,\n",
       "       21, 69, 26, 46, 36, 82, 88, 53, 23, 50, 37, 71, 70, 63, 83, 78, 25,\n",
       "       29, 71, 41, 47, 37, 39, 32, 21, 35, 58, 55, 27, 69, 82, 78, 36, 49,\n",
       "       60, 57, 40, 33, 77, 87, 55, 45, 57, 75, 45, 26, 86, 74, 48, 57, 65,\n",
       "       57, 62, 74, 76, 47, 29, 48, 55, 23, 34, 49, 23, 48, 69, 32, 77, 79,\n",
       "       55, 76, 71, 82, 88, 56, 82, 22, 68, 77, 47, 52, 57, 29, 22, 60, 67,\n",
       "       54, 57, 22, 44, 60, 56, 66, 64, 89, 89, 53, 62, 23, 75, 29, 19, 83,\n",
       "       88, 60, 85, 82, 21, 26, 82, 65, 39, 79, 36, 76, 55, 51, 35, 45, 44,\n",
       "       21, 26, 56, 63, 81, 31, 24, 64, 82, 63, 58, 44, 35, 71, 75, 54, 89,\n",
       "       60, 86, 30, 65, 18, 19, 89, 41, 49, 31, 28, 68, 27, 58, 47, 25, 41,\n",
       "       37, 31, 63, 34, 60, 49, 61, 22, 51, 49, 44, 35, 45, 56, 21, 63, 26,\n",
       "       44, 21, 42, 40, 89, 64, 29, 74, 51, 56, 56, 36, 79, 54, 76, 86, 87,\n",
       "       46, 39, 57, 45, 55, 38, 86])"
      ]
     },
     "execution_count": 24,
     "metadata": {},
     "output_type": "execute_result"
    }
   ],
   "source": [
    "# Let's generate some fake age data for 500 people\n",
    "\n",
    "ages = np.random.randint(18,high=90,size=500)\n",
    "ages"
   ]
  },
  {
   "cell_type": "code",
   "execution_count": 26,
   "metadata": {
    "collapsed": false
   },
   "outputs": [
    {
     "data": {
      "text/plain": [
       "ModeResult(mode=array([29]), count=array([14]))"
      ]
     },
     "execution_count": 26,
     "metadata": {},
     "output_type": "execute_result"
    }
   ],
   "source": [
    "from scipy import stats\n",
    "stats.mode(ages)"
   ]
  },
  {
   "cell_type": "code",
   "execution_count": null,
   "metadata": {
    "collapsed": true
   },
   "outputs": [],
   "source": []
  }
 ],
 "metadata": {
  "kernelspec": {
   "display_name": "Python 3",
   "language": "python",
   "name": "python3"
  },
  "language_info": {
   "codemirror_mode": {
    "name": "ipython",
    "version": 3
   },
   "file_extension": ".py",
   "mimetype": "text/x-python",
   "name": "python",
   "nbconvert_exporter": "python",
   "pygments_lexer": "ipython3",
   "version": "3.6.0"
  }
 },
 "nbformat": 4,
 "nbformat_minor": 2
}
